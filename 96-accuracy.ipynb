{
 "cells": [
  {
   "cell_type": "code",
   "execution_count": 1,
   "metadata": {
    "_cell_guid": "b1076dfc-b9ad-4769-8c92-a6c4dae69d19",
    "_uuid": "8f2839f25d086af736a60e9eeb907d3b93b6e0e5",
    "execution": {
     "iopub.execute_input": "2021-02-21T06:39:25.567586Z",
     "iopub.status.busy": "2021-02-21T06:39:25.566875Z",
     "iopub.status.idle": "2021-02-21T06:39:25.578125Z",
     "shell.execute_reply": "2021-02-21T06:39:25.577409Z"
    },
    "papermill": {
     "duration": 0.022354,
     "end_time": "2021-02-21T06:39:25.578376",
     "exception": false,
     "start_time": "2021-02-21T06:39:25.556022",
     "status": "completed"
    },
    "tags": []
   },
   "outputs": [
    {
     "name": "stdout",
     "output_type": "stream",
     "text": [
      "/kaggle/input/digit-recognizer/sample_submission.csv\n",
      "/kaggle/input/digit-recognizer/train.csv\n",
      "/kaggle/input/digit-recognizer/test.csv\n"
     ]
    }
   ],
   "source": [
    "# This Python 3 environment comes with many helpful analytics libraries installed\n",
    "# It is defined by the kaggle/python Docker image: https://github.com/kaggle/docker-python\n",
    "# For example, here's several helpful packages to load\n",
    "\n",
    "import numpy as np # linear algebra\n",
    "import pandas as pd # data processing, CSV file I/O (e.g. pd.read_csv)\n",
    "\n",
    "# Input data files are available in the read-only \"../input/\" directory\n",
    "# For example, running this (by clicking run or pressing Shift+Enter) will list all files under the input directory\n",
    "\n",
    "import os\n",
    "for dirname, _, filenames in os.walk('/kaggle/input'):\n",
    "    for filename in filenames:\n",
    "        print(os.path.join(dirname, filename))\n",
    "\n",
    "# You can write up to 20GB to the current directory (/kaggle/working/) that gets preserved as output when you create a version using \"Save & Run All\" \n",
    "# You can also write temporary files to /kaggle/temp/, but they won't be saved outside of the current session"
   ]
  },
  {
   "cell_type": "code",
   "execution_count": 2,
   "metadata": {
    "execution": {
     "iopub.execute_input": "2021-02-21T06:39:25.600750Z",
     "iopub.status.busy": "2021-02-21T06:39:25.599941Z",
     "iopub.status.idle": "2021-02-21T06:39:32.827135Z",
     "shell.execute_reply": "2021-02-21T06:39:32.826515Z"
    },
    "papermill": {
     "duration": 7.239768,
     "end_time": "2021-02-21T06:39:32.827304",
     "exception": false,
     "start_time": "2021-02-21T06:39:25.587536",
     "status": "completed"
    },
    "tags": []
   },
   "outputs": [],
   "source": [
    "import numpy as np\n",
    "import seaborn as sns\n",
    "import tensorflow as tf\n",
    "import matplotlib.pyplot as pl\n",
    "import keras\n",
    "\n"
   ]
  },
  {
   "cell_type": "code",
   "execution_count": 3,
   "metadata": {
    "execution": {
     "iopub.execute_input": "2021-02-21T06:39:32.849118Z",
     "iopub.status.busy": "2021-02-21T06:39:32.848278Z",
     "iopub.status.idle": "2021-02-21T06:39:39.247162Z",
     "shell.execute_reply": "2021-02-21T06:39:39.246475Z"
    },
    "papermill": {
     "duration": 6.412736,
     "end_time": "2021-02-21T06:39:39.247356",
     "exception": false,
     "start_time": "2021-02-21T06:39:32.834620",
     "status": "completed"
    },
    "tags": []
   },
   "outputs": [],
   "source": [
    "tr_dt = pd.read_csv('../input/digit-recognizer/train.csv')\n",
    "te_dt = pd.read_csv('../input/digit-recognizer/test.csv')\n",
    "\n",
    "x_train = tr_dt.iloc[:,1:]\n",
    "y_train = tr_dt.iloc[:,0]\n",
    "\n",
    "x_train = tf.keras.utils.normalize(x_train,axis=1)"
   ]
  },
  {
   "cell_type": "code",
   "execution_count": 4,
   "metadata": {
    "execution": {
     "iopub.execute_input": "2021-02-21T06:39:39.273952Z",
     "iopub.status.busy": "2021-02-21T06:39:39.272893Z",
     "iopub.status.idle": "2021-02-21T06:39:50.091126Z",
     "shell.execute_reply": "2021-02-21T06:39:50.090161Z"
    },
    "papermill": {
     "duration": 10.83514,
     "end_time": "2021-02-21T06:39:50.091307",
     "exception": false,
     "start_time": "2021-02-21T06:39:39.256167",
     "status": "completed"
    },
    "tags": []
   },
   "outputs": [
    {
     "name": "stdout",
     "output_type": "stream",
     "text": [
      "Epoch 1/3\n",
      "1313/1313 [==============================] - 4s 2ms/step - loss: 0.7019 - accuracy: 0.8143\n",
      "Epoch 2/3\n",
      "1313/1313 [==============================] - 3s 2ms/step - loss: 0.1789 - accuracy: 0.9458\n",
      "Epoch 3/3\n",
      "1313/1313 [==============================] - 3s 2ms/step - loss: 0.1209 - accuracy: 0.9622\n"
     ]
    },
    {
     "data": {
      "text/plain": [
       "<tensorflow.python.keras.callbacks.History at 0x7fca95b8bc90>"
      ]
     },
     "execution_count": 4,
     "metadata": {},
     "output_type": "execute_result"
    }
   ],
   "source": [
    "model = tf.keras.models.Sequential()\n",
    "model.add(tf.keras.layers.Flatten())\n",
    "model.add(tf.keras.layers.Dense(128, activation = tf.nn.relu))\n",
    "model.add(tf.keras.layers.Dense(128, activation = tf.nn.relu))\n",
    "model.add(tf.keras.layers.Dense(10, activation = tf.nn.softmax))\n",
    "\n",
    "model.compile(optimizer = 'adam', loss='sparse_categorical_crossentropy', metrics = ['accuracy'])\n",
    "model.fit(x_train, y_train, epochs=3)"
   ]
  },
  {
   "cell_type": "code",
   "execution_count": 5,
   "metadata": {
    "execution": {
     "iopub.execute_input": "2021-02-21T06:39:50.255330Z",
     "iopub.status.busy": "2021-02-21T06:39:50.254309Z",
     "iopub.status.idle": "2021-02-21T06:39:50.441588Z",
     "shell.execute_reply": "2021-02-21T06:39:50.440871Z"
    },
    "papermill": {
     "duration": 0.27622,
     "end_time": "2021-02-21T06:39:50.441775",
     "exception": false,
     "start_time": "2021-02-21T06:39:50.165555",
     "status": "completed"
    },
    "tags": []
   },
   "outputs": [],
   "source": [
    "te_dt = tf.keras.utils.normalize(te_dt,axis=1)"
   ]
  },
  {
   "cell_type": "code",
   "execution_count": 6,
   "metadata": {
    "execution": {
     "iopub.execute_input": "2021-02-21T06:39:50.583353Z",
     "iopub.status.busy": "2021-02-21T06:39:50.582328Z",
     "iopub.status.idle": "2021-02-21T06:39:51.796445Z",
     "shell.execute_reply": "2021-02-21T06:39:51.797016Z"
    },
    "papermill": {
     "duration": 1.286691,
     "end_time": "2021-02-21T06:39:51.797193",
     "exception": false,
     "start_time": "2021-02-21T06:39:50.510502",
     "status": "completed"
    },
    "tags": []
   },
   "outputs": [],
   "source": [
    "prediction = model.predict(te_dt)"
   ]
  },
  {
   "cell_type": "code",
   "execution_count": 7,
   "metadata": {
    "execution": {
     "iopub.execute_input": "2021-02-21T06:39:51.937959Z",
     "iopub.status.busy": "2021-02-21T06:39:51.936884Z",
     "iopub.status.idle": "2021-02-21T06:39:51.942668Z",
     "shell.execute_reply": "2021-02-21T06:39:51.942120Z"
    },
    "papermill": {
     "duration": 0.079027,
     "end_time": "2021-02-21T06:39:51.942824",
     "exception": false,
     "start_time": "2021-02-21T06:39:51.863797",
     "status": "completed"
    },
    "tags": []
   },
   "outputs": [
    {
     "data": {
      "text/plain": [
       "(28000, 10)"
      ]
     },
     "execution_count": 7,
     "metadata": {},
     "output_type": "execute_result"
    }
   ],
   "source": [
    "prediction.shape\n"
   ]
  },
  {
   "cell_type": "code",
   "execution_count": 8,
   "metadata": {
    "execution": {
     "iopub.execute_input": "2021-02-21T06:39:52.083672Z",
     "iopub.status.busy": "2021-02-21T06:39:52.082625Z",
     "iopub.status.idle": "2021-02-21T06:39:52.177516Z",
     "shell.execute_reply": "2021-02-21T06:39:52.176884Z"
    },
    "papermill": {
     "duration": 0.167473,
     "end_time": "2021-02-21T06:39:52.177667",
     "exception": false,
     "start_time": "2021-02-21T06:39:52.010194",
     "status": "completed"
    },
    "tags": []
   },
   "outputs": [],
   "source": [
    "ans = []\n",
    "for i in range(prediction.shape[0]):\n",
    "    ans.append(np.argmax(prediction[i]))"
   ]
  },
  {
   "cell_type": "code",
   "execution_count": 9,
   "metadata": {
    "execution": {
     "iopub.execute_input": "2021-02-21T06:39:52.335318Z",
     "iopub.status.busy": "2021-02-21T06:39:52.334620Z",
     "iopub.status.idle": "2021-02-21T06:39:52.393292Z",
     "shell.execute_reply": "2021-02-21T06:39:52.392520Z"
    },
    "papermill": {
     "duration": 0.148247,
     "end_time": "2021-02-21T06:39:52.393474",
     "exception": false,
     "start_time": "2021-02-21T06:39:52.245227",
     "status": "completed"
    },
    "tags": []
   },
   "outputs": [],
   "source": [
    "pd.DataFrame({'ImageId':range(1,28001),'Label':ans}).to_csv('submission.csv',index=False)"
   ]
  }
 ],
 "metadata": {
  "kernelspec": {
   "display_name": "Python 3",
   "language": "python",
   "name": "python3"
  },
  "language_info": {
   "codemirror_mode": {
    "name": "ipython",
    "version": 3
   },
   "file_extension": ".py",
   "mimetype": "text/x-python",
   "name": "python",
   "nbconvert_exporter": "python",
   "pygments_lexer": "ipython3",
   "version": "3.7.9"
  },
  "papermill": {
   "default_parameters": {},
   "duration": 34.493607,
   "end_time": "2021-02-21T06:39:53.675515",
   "environment_variables": {},
   "exception": null,
   "input_path": "__notebook__.ipynb",
   "output_path": "__notebook__.ipynb",
   "parameters": {},
   "start_time": "2021-02-21T06:39:19.181908",
   "version": "2.2.2"
  }
 },
 "nbformat": 4,
 "nbformat_minor": 4
}
